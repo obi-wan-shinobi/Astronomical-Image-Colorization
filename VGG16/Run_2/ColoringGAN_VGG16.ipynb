{
  "nbformat": 4,
  "nbformat_minor": 0,
  "metadata": {
    "colab": {
      "name": "ColoringGAN_VGG16.ipynb",
      "provenance": [],
      "collapsed_sections": []
    },
    "kernelspec": {
      "name": "python3",
      "display_name": "Python 3"
    },
    "language_info": {
      "name": "python"
    },
    "accelerator": "GPU"
  },
  "cells": [
    {
      "cell_type": "markdown",
      "metadata": {
        "id": "yygs2BHEEeDd"
      },
      "source": [
        "\n",
        "The main notebook for Coloring GAN using VGG16 weights\n",
        "\n"
      ]
    },
    {
      "cell_type": "code",
      "metadata": {
        "id": "EaIsn7h2F-vq"
      },
      "source": [
        "!unzip -q '/content/drive/My Drive/BE_project/data.zip'"
      ],
      "execution_count": 1,
      "outputs": []
    },
    {
      "cell_type": "code",
      "metadata": {
        "colab": {
          "base_uri": "https://localhost:8080/"
        },
        "id": "8nuPLSMEGIay",
        "outputId": "b60dd629-fe09-4938-d1d8-12fa1faf6567"
      },
      "source": [
        "import tensorflow as tf\n",
        "gpus = tf.config.experimental.list_physical_devices('GPU')\n",
        "if gpus:\n",
        "    try:\n",
        "        # Restrict TensorFlow to only use the fourth GPU\n",
        "        tf.config.experimental.set_visible_devices(gpus[0], 'GPU')\n",
        "\n",
        "        # Currently, memory growth needs to be the same across GPUs\n",
        "        for gpu in gpus:\n",
        "            tf.config.experimental.set_memory_growth(gpu, True)\n",
        "        logical_gpus = tf.config.experimental.list_logical_devices('GPU')\n",
        "        print(len(gpus), \"Physical GPUs,\", len(logical_gpus), \"Logical GPUs\")\n",
        "    except RuntimeError as e:\n",
        "        # Memory growth must be set before GPUs have been initialized\n",
        "        print(e)\n",
        "        \n",
        "#tf.compat.v1.disable_v2_behavior()"
      ],
      "execution_count": 2,
      "outputs": [
        {
          "output_type": "stream",
          "text": [
            "1 Physical GPUs, 1 Logical GPUs\n"
          ],
          "name": "stdout"
        }
      ]
    },
    {
      "cell_type": "code",
      "metadata": {
        "id": "usi9E7x2GlkK"
      },
      "source": [
        "from tensorflow.keras.layers import Input, Reshape, Dropout, Dense, Add\n",
        "from tensorflow.keras.layers import Flatten, BatchNormalization\n",
        "from tensorflow.keras.layers import Activation, ZeroPadding2D\n",
        "from tensorflow.keras.layers import LeakyReLU\n",
        "from tensorflow.keras.layers import UpSampling2D, Conv2D, Conv2DTranspose, MaxPooling2D\n",
        "from tensorflow.keras.models import Sequential, Model, load_model\n",
        "from tensorflow.keras.optimizers import Adam\n",
        "from tensorflow.keras.initializers import HeNormal\n",
        "from tensorflow.keras.preprocessing.image import img_to_array,ImageDataGenerator\n",
        "\n",
        "from tensorflow.keras.applications.vgg16 import VGG16\n",
        "\n",
        "import numpy as np\n",
        "from PIL import Image\n",
        "import os \n",
        "import time\n",
        "import matplotlib.pyplot as plt\n",
        "import csv"
      ],
      "execution_count": 37,
      "outputs": []
    },
    {
      "cell_type": "markdown",
      "metadata": {
        "id": "cXmZQjtTE1VP"
      },
      "source": [
        "This part is only for displaying the time for epochs in a formatted fashion. Do not play around over here"
      ]
    },
    {
      "cell_type": "code",
      "metadata": {
        "id": "OUYk4F3WHjXB"
      },
      "source": [
        "# Nicely formatted time string\n",
        "def hms_string(sec_elapsed):\n",
        "    h = int(sec_elapsed / (60 * 60))\n",
        "    m = int((sec_elapsed % (60 * 60)) / 60)\n",
        "    s = sec_elapsed % 60\n",
        "    return \"{}:{:>02}:{:>05.2f}\".format(h, m, s)"
      ],
      "execution_count": 4,
      "outputs": []
    },
    {
      "cell_type": "code",
      "metadata": {
        "colab": {
          "base_uri": "https://localhost:8080/"
        },
        "id": "1VAFhr-VHl_X",
        "outputId": "4e53adbf-5c4b-488f-dde8-67c3e944b638"
      },
      "source": [
        "# Generation resolution - Must be square \n",
        "# Training data is also scaled to this.\n",
        "# Note GENERATE_RES 4 or higher  \n",
        "# will blow Google CoLab's memory and have not\n",
        "# been tested extensivly.\n",
        "GENERATE_RES = 3 # Generation resolution factor \n",
        "# (1=32, 2=64, 3=96, 4=128, etc.)\n",
        "GENERATE_SQUARE = 64 # rows/cols (should be square)\n",
        "GEN_IMAGE_CHANNELS = 3\n",
        "INPUT_IMAGE_CHANNELS = 1\n",
        "\n",
        "# Preview image \n",
        "PREVIEW_ROWS = 1\n",
        "PREVIEW_COLS = 3\n",
        "PREVIEW_MARGIN = 8\n",
        "\n",
        "# Size vector to generate images from\n",
        "SEED_SIZE = 1\n",
        "\n",
        "# Configuration\n",
        "if(not os.path.exists('/content/drive/My Drive/BE_project/output/colorised/')):\n",
        "  path = '/content/drive/My Drive/BE_project/output/colorised/'\n",
        "  os.makedirs(path)\n",
        "  print(f\"Created new directory: {path}\")\n",
        "\n",
        "DATA_PATH = '/content/drive/My Drive/BE_project/output/colorised/'\n",
        "TRAIN_PATH = '/content/dataset/'\n",
        "\n",
        "log_file = '/content/drive/My Drive/BE_project/output/training_history.csv'\n",
        "\n",
        "EPOCHS = 100\n",
        "BATCH_SIZE = 32\n",
        "BUFFER_SIZE = 60000\n",
        "\n",
        "print(f\"Will generate {GENERATE_SQUARE}px square images.\")"
      ],
      "execution_count": 5,
      "outputs": [
        {
          "output_type": "stream",
          "text": [
            "Will generate 64px square images.\n"
          ],
          "name": "stdout"
        }
      ]
    },
    {
      "cell_type": "markdown",
      "metadata": {
        "id": "DHT7D9ghFAF-"
      },
      "source": [
        "These are the data generators used for producing batches of colored and subsequent black and white images"
      ]
    },
    {
      "cell_type": "code",
      "metadata": {
        "colab": {
          "base_uri": "https://localhost:8080/"
        },
        "id": "1N7LlaV-I_7h",
        "outputId": "ddb35f1e-7bde-4fac-9b8b-4dda17404c8f"
      },
      "source": [
        "bw_datagen = ImageDataGenerator(\n",
        "    rescale= 1./255,\n",
        ")\n",
        "\n",
        "bw_image_generator = bw_datagen.flow_from_directory(\n",
        "    TRAIN_PATH,\n",
        "    class_mode=None,\n",
        "    color_mode=\"grayscale\",\n",
        "    batch_size=16,\n",
        "    target_size=(GENERATE_SQUARE, GENERATE_SQUARE),\n",
        "    seed=None,\n",
        "    shuffle=False\n",
        ")\n",
        "\n",
        "\n",
        "cl_datagen = ImageDataGenerator(\n",
        "    rescale= 1./255\n",
        ")\n",
        "\n",
        "cl_image_generator = cl_datagen.flow_from_directory(\n",
        "    TRAIN_PATH,\n",
        "    class_mode=None,\n",
        "    color_mode=\"rgb\",\n",
        "    batch_size=16,\n",
        "    target_size=(GENERATE_SQUARE, GENERATE_SQUARE),\n",
        "    seed=None,\n",
        "    shuffle=False\n",
        ")"
      ],
      "execution_count": 6,
      "outputs": [
        {
          "output_type": "stream",
          "text": [
            "Found 4776 images belonging to 1 classes.\n",
            "Found 4776 images belonging to 1 classes.\n"
          ],
          "name": "stdout"
        }
      ]
    },
    {
      "cell_type": "markdown",
      "metadata": {
        "id": "K3_PB1OLFHYP"
      },
      "source": [
        "We build our generator network"
      ]
    },
    {
      "cell_type": "code",
      "metadata": {
        "colab": {
          "base_uri": "https://localhost:8080/",
          "height": 220
        },
        "id": "m4ELblzPc4c1",
        "outputId": "8697a853-7141-48ae-c45c-7fecc60e2ef7"
      },
      "source": [
        "plt.figure()\n",
        "\n",
        "#subplot(r,c) provide the no. of rows and columns\n",
        "f, axarr = plt.subplots(1,2) \n",
        "i = 0\n",
        "for bw_image, cl_image in zip(bw_image_generator, cl_image_generator):\n",
        "  if(i<40):\n",
        "    i+=1\n",
        "    continue\n",
        "  bw = np.concatenate((bw_image,)*3, axis=-1)\n",
        "  axarr[0].imshow(bw[0])\n",
        "  axarr[1].imshow(cl_image[0])\n",
        "  break"
      ],
      "execution_count": 7,
      "outputs": [
        {
          "output_type": "display_data",
          "data": {
            "text/plain": [
              "<Figure size 432x288 with 0 Axes>"
            ]
          },
          "metadata": {
            "tags": []
          }
        },
        {
          "output_type": "display_data",
          "data": {
            "image/png": "[encoded data removed]",
            "text/plain": [
              "<Figure size 432x288 with 2 Axes>"
            ]
          },
          "metadata": {
            "tags": [],
            "needs_background": "light"
          }
        }
      ]
    },
    {
      "cell_type": "code",
      "metadata": {
        "id": "qgjP1RTac3-c"
      },
      "source": [
        ""
      ],
      "execution_count": 7,
      "outputs": []
    },
    {
      "cell_type": "code",
      "metadata": {
        "id": "_bNOQwhvJlxh"
      },
      "source": [
        "def build_generator(channels, image_shape = (720,720,1)):\n",
        "    initializer = HeNormal()\n",
        "    input_tensor = Input(shape=image_shape)\n",
        "    X = Conv2D(filters = 3, kernel_size=3,kernel_initializer=initializer, padding='same', name=\"input_conv\")(input_tensor)\n",
        "    #X = UpSampling2D(size=(4,4), name='upsample_input')(X)\n",
        "    X = Conv2DTranspose(3, (1,1), strides=(4,4), kernel_initializer=initializer, input_shape=(64,64, 3), name='input_conv2d_transpose')(X)\n",
        "\n",
        "    vgg16 = VGG16(include_top=False, weights='imagenet',input_shape=(256,256,3))\n",
        "    \n",
        "    X_shortcut = X\n",
        "    \n",
        "    block = 2\n",
        "    for i in range(1,len(vgg16.layers)):\n",
        "        if(vgg16.layers[i].name == 'block3_pool'):\n",
        "            break\n",
        "        if(f'block{block}' in vgg16.layers[i].name):\n",
        "            X_shortcut = Conv2D(filters = vgg16.layers[i].input_spec.axes[-1], kernel_size = (3,3),kernel_initializer=initializer, padding='same', name=f\"custom_block_conv{block}\")(X_shortcut)\n",
        "            X_shortcut = MaxPooling2D(pool_size=(2,2), strides = 2, padding='valid', name=f\"custom_block_pool{block}\")(X_shortcut)\n",
        "            X_shortcut = BatchNormalization(momentum=0.8)(X_shortcut)\n",
        "            X_shortcut = LeakyReLU(alpha=0.2)(X_shortcut)\n",
        "            X = Add()([X,X_shortcut])\n",
        "            X_shortcut = X\n",
        "            block+=1\n",
        "        X = vgg16.layers[i](X)\n",
        "\n",
        "    X =  Conv2D(filters = channels, kernel_size=3, kernel_initializer=initializer, padding='same', name='output_conv')(X)\n",
        "    X = Activation('tanh', name='output_activation')(X)\n",
        "\n",
        "    model = Model(inputs = input_tensor, outputs = X, name='Generator')\n",
        "    \n",
        "    custom_layers = set(['input_conv','upsample_input','output_conv','output_activation','input_conv2d_transpose'])\n",
        "    \n",
        "    for layer in model.layers:\n",
        "        if(layer.name not in custom_layers and 'custom' not in layer.name and 'conv' in layer.name):\n",
        "            layer.trainable = False\n",
        "    \n",
        "    return model"
      ],
      "execution_count": 53,
      "outputs": []
    },
    {
      "cell_type": "markdown",
      "metadata": {
        "id": "-_FLrYq7FKrc"
      },
      "source": [
        "We build the discriminator network"
      ]
    },
    {
      "cell_type": "code",
      "metadata": {
        "id": "394BFmlJL04e"
      },
      "source": [
        "def build_discriminator(image_shape=(720,720,3)):\n",
        "    vgg16 = VGG16(include_top=False, weights='imagenet',input_shape=image_shape)\n",
        "    i=1\n",
        "    for layer in vgg16.layers:\n",
        "        if(i%2):\n",
        "            i+=1\n",
        "            continue\n",
        "        layer.trainable = False\n",
        "    \n",
        "    X_shortcut = vgg16.output\n",
        "    \n",
        "    X = Dropout(0.25)(vgg16.output)\n",
        "    X = Conv2D(filters = 256, kernel_size=3, strides=1, padding='same')(X)\n",
        "    X = BatchNormalization(momentum=0.8)(X)\n",
        "    X = LeakyReLU(alpha=0.2)(X)\n",
        "\n",
        "    X = Dropout(0.25)(X)\n",
        "    X = Conv2D(filters = 512, kernel_size=3, strides=1, padding='same')(X)\n",
        "    X = BatchNormalization(momentum=0.8)(X)\n",
        "    X = LeakyReLU(alpha=0.2)(X)\n",
        "    \n",
        "    X_shortcut = Conv2D(filters = 512, kernel_size = (3,3), strides=1, padding='same')(X_shortcut)\n",
        "    X_shortcut = BatchNormalization(momentum=0.8)(X_shortcut)\n",
        "    X_shortcut = LeakyReLU(alpha=0.2)(X_shortcut)\n",
        "    \n",
        "    X = Add(name='addition_layer')([X,X_shortcut])\n",
        "\n",
        "    X = Dropout(0.25)(X)\n",
        "    X = Flatten()(X)\n",
        "    X = Dense(1, activation='sigmoid')(X)\n",
        "\n",
        "    model = Model(inputs = vgg16.input, outputs = X, name='Discriminator')\n",
        "\n",
        "    return model"
      ],
      "execution_count": 54,
      "outputs": []
    },
    {
      "cell_type": "markdown",
      "metadata": {
        "id": "iHDJiaLWFPaD"
      },
      "source": [
        "Let's create an instance of network optimizers. We'll use them later on to apply weights using gradient tape. For now, we'll just initialize them with appropriate names"
      ]
    },
    {
      "cell_type": "code",
      "metadata": {
        "id": "H2jRziddQJQd"
      },
      "source": [
        "generator_optimizer = tf.keras.optimizers.Adam(8e-5,0.5)\n",
        "discriminator_optimizer = tf.keras.optimizers.Adam(1.5e-4,0.5)"
      ],
      "execution_count": 57,
      "outputs": []
    },
    {
      "cell_type": "markdown",
      "metadata": {
        "id": "992hAGW1F7pt"
      },
      "source": [
        "We see how our generator network performs with initialized weights"
      ]
    },
    {
      "cell_type": "code",
      "metadata": {
        "colab": {
          "base_uri": "https://localhost:8080/",
          "height": 302
        },
        "id": "KNYNhvm-QVqU",
        "outputId": "81910a60-c5f0-4927-f7c0-5aab527ff00b"
      },
      "source": [
        "generator = build_generator(GEN_IMAGE_CHANNELS,(GENERATE_SQUARE,GENERATE_SQUARE,INPUT_IMAGE_CHANNELS))\n",
        "\n",
        "bw_image = bw_image_generator.next()\n",
        "\n",
        "generated_image = generator(bw_image, training=False)\n",
        "\n",
        "plt.imshow(generated_image[0, :, :])"
      ],
      "execution_count": 58,
      "outputs": [
        {
          "output_type": "stream",
          "text": [
            "Clipping input data to the valid range for imshow with RGB data ([0..1] for floats or [0..255] for integers).\n"
          ],
          "name": "stderr"
        },
        {
          "output_type": "execute_result",
          "data": {
            "text/plain": [
              "<matplotlib.image.AxesImage at 0x7fc17e4d4110>"
            ]
          },
          "metadata": {
            "tags": []
          },
          "execution_count": 58
        },
        {
          "output_type": "display_data",
          "data": {
            "image/png": "[encoded data removed]",
            "text/plain": [
              "<Figure size 432x288 with 1 Axes>"
            ]
          },
          "metadata": {
            "tags": [],
            "needs_background": "light"
          }
        }
      ]
    },
    {
      "cell_type": "markdown",
      "metadata": {
        "id": "IEgBnzLGGDkF"
      },
      "source": [
        "Our discriminator provides us with little to no result"
      ]
    },
    {
      "cell_type": "code",
      "metadata": {
        "id": "-uU-2nl0QalL",
        "colab": {
          "base_uri": "https://localhost:8080/"
        },
        "outputId": "aef8490f-5aaf-4238-fbd5-0ad636aef6ef"
      },
      "source": [
        "image_shape = (GENERATE_SQUARE,GENERATE_SQUARE,GEN_IMAGE_CHANNELS)\n",
        "\n",
        "discriminator = build_discriminator(image_shape)\n",
        "decision = discriminator(generated_image)\n",
        "print (decision[0])"
      ],
      "execution_count": 59,
      "outputs": [
        {
          "output_type": "stream",
          "text": [
            "tf.Tensor([0.41057414], shape=(1,), dtype=float32)\n"
          ],
          "name": "stdout"
        }
      ]
    },
    {
      "cell_type": "markdown",
      "metadata": {
        "id": "nvUMINk4GH9Z"
      },
      "source": [
        "We're setting up the loss function for our generator and discriminator. That's the log loss or the binary crossentropy loss defined accordingly in the report"
      ]
    },
    {
      "cell_type": "code",
      "metadata": {
        "id": "fVpE3_UcgCuK"
      },
      "source": [
        "cross_entropy = tf.keras.losses.BinaryCrossentropy(from_logits = True)\n",
        "\n",
        "def discriminator_loss(real_output, fake_output):\n",
        "    real_loss = cross_entropy(tf.ones_like(real_output), real_output)\n",
        "    fake_loss = cross_entropy(tf.zeros_like(fake_output), fake_output)\n",
        "    total_loss = real_loss + fake_loss\n",
        "    return total_loss\n",
        "\n",
        "def generator_loss(fake_output):\n",
        "    return cross_entropy(tf.ones_like(fake_output), fake_output)"
      ],
      "execution_count": 60,
      "outputs": []
    },
    {
      "cell_type": "markdown",
      "metadata": {
        "id": "rgrw4NdMGSXS"
      },
      "source": [
        "The train step is where we'll process a batch of images and calculate the loss of generator and discriminator. We'll apply the gradient descent values to the variables"
      ]
    },
    {
      "cell_type": "code",
      "metadata": {
        "id": "YbSGp5ZRhSUC"
      },
      "source": [
        "@tf.function\n",
        "def train_step(bw_images, cl_images):\n",
        "    with tf.GradientTape() as gen_tape, tf.GradientTape() as disc_tape:\n",
        "        #Get the generated image batch by passing the grayscale images through the generator\n",
        "        generated_images = generator(bw_images, training=True)\n",
        "        \n",
        "        real_output = discriminator(cl_images, training=True)\n",
        "        fake_output = discriminator(generated_images, training=True)\n",
        "        \n",
        "        #Calculate the losses of the networks\n",
        "        gen_loss = generator_loss(fake_output)\n",
        "        disc_loss = discriminator_loss(real_output, fake_output)\n",
        "        \n",
        "        #Get the gradients using gradient tape\n",
        "        gradients_of_generator = gen_tape.gradient(gen_loss, generator.trainable_variables)\n",
        "        gradients_of_discriminator = disc_tape.gradient(disc_loss, discriminator.trainable_variables)\n",
        "        \n",
        "        #Apply the gradients so update variables\n",
        "        generator_optimizer.apply_gradients(zip(gradients_of_generator, generator.trainable_variables))\n",
        "        discriminator_optimizer.apply_gradients(zip(gradients_of_discriminator, discriminator.trainable_variables))\n",
        "        \n",
        "        return gen_loss, disc_loss"
      ],
      "execution_count": 61,
      "outputs": []
    },
    {
      "cell_type": "code",
      "metadata": {
        "id": "UfAZfDYtlese"
      },
      "source": [
        "#This cell contains all the \"callback\" type functionalities\n",
        "def save_images(cnt,bw_images, cl_images):\n",
        "    image_array = np.full(( \n",
        "      PREVIEW_MARGIN + (PREVIEW_ROWS * (GENERATE_SQUARE+PREVIEW_MARGIN)), \n",
        "      PREVIEW_MARGIN + (PREVIEW_COLS * (GENERATE_SQUARE+PREVIEW_MARGIN)), 3), \n",
        "      255, dtype=np.uint8)\n",
        "\n",
        "    generated_images = generator.predict(bw_images)\n",
        "\n",
        "    generated_images = 0.5 * generated_images + 0.5\n",
        "\n",
        "    bw_image = np.concatenate((bw_images[0],)*3, axis = -1)\n",
        "\n",
        "    original_image = cl_images[0]\n",
        "\n",
        "    final_images = np.array([bw_image,generated_images[0],original_image])\n",
        "\n",
        "    image_count = 0\n",
        "    for row in range(PREVIEW_ROWS):\n",
        "        for col in range(PREVIEW_COLS):\n",
        "            r = row * (GENERATE_SQUARE+8) + PREVIEW_MARGIN\n",
        "            c = col * (GENERATE_SQUARE+8) + PREVIEW_MARGIN\n",
        "            image_array[r:r+GENERATE_SQUARE,c:c+GENERATE_SQUARE] \\\n",
        "                = final_images[image_count] * 255\n",
        "            image_count += 1\n",
        "\n",
        "\n",
        "    output_path = os.path.join(DATA_PATH,'output')\n",
        "    if not os.path.exists(output_path):\n",
        "        os.makedirs(output_path)\n",
        "\n",
        "    filename = os.path.join(output_path,f\"train-{cnt}.png\")\n",
        "    im = Image.fromarray(image_array)\n",
        "    im.save(filename)\n",
        "\n",
        "\n",
        "def csv_logger(dictionary, field_names, file_name, header=False):\n",
        "  with open(file_name, 'a') as csvfile:\n",
        "    writer = csv.DictWriter(csvfile, fieldnames=field_names)\n",
        "    if(header):\n",
        "      writer.writeheader()\n",
        "    writer.writerow(dictionary)"
      ],
      "execution_count": 62,
      "outputs": []
    },
    {
      "cell_type": "code",
      "metadata": {
        "id": "DWjpWCoGhd-j"
      },
      "source": [
        "def train(gen_generator, disc_generator, epochs, steps_per_epoch):\n",
        "    start = time.time()\n",
        "    metrics = {'gen_loss':[], 'disc_loss':[]}\n",
        "    field_names = ['Epoch', 'gen_loss', 'disc_loss']\n",
        "\n",
        "    header = True\n",
        "    for epoch in range(epochs):\n",
        "        epoch_start = time.time()\n",
        "        if(epoch>0):\n",
        "          header = False\n",
        "            \n",
        "        gen_loss_list = []\n",
        "        disc_loss_list = []\n",
        "        \n",
        "        bw_batch = []\n",
        "        cl_batch = []\n",
        "        \n",
        "        steps = 0\n",
        "        \n",
        "        for bw_imagebatch, cl_imagebatch in zip(gen_generator,disc_generator):\n",
        "            if(steps>steps_per_epoch):\n",
        "                break\n",
        "            if(len(bw_batch)<8):\n",
        "                for i in range(bw_imagebatch.shape[0]):\n",
        "                    bw_batch.append(bw_imagebatch[i])\n",
        "                    cl_batch.append(cl_imagebatch[i])\n",
        "            t = train_step(bw_imagebatch, cl_imagebatch)\n",
        "            gen_loss_list.append(t[0])\n",
        "            disc_loss_list.append(t[1])\n",
        "            steps+=1\n",
        "\n",
        "        g_loss = sum(gen_loss_list) / len(gen_loss_list)\n",
        "        d_loss = sum(disc_loss_list) / len(disc_loss_list)\n",
        "\n",
        "        metrics['gen_loss'].append(g_loss.numpy())\n",
        "        metrics['disc_loss'].append(d_loss.numpy())\n",
        "\n",
        "        #Log the epoch losses\n",
        "        log = {'Epoch': epoch+1, 'gen_loss': g_loss.numpy(), 'disc_loss': d_loss.numpy()}\n",
        "        csv_logger(log, field_names, log_file, header)\n",
        "\n",
        "        epoch_elapsed = time.time()-epoch_start\n",
        "        \n",
        "        print (f'Epoch {epoch+1}, gen loss={g_loss},disc loss={d_loss}, epoch_time={hms_string(epoch_elapsed)}')\n",
        "        save_images(epoch,np.array(bw_batch), np.array(cl_batch))\n",
        "\n",
        "    elapsed = time.time()-start\n",
        "    print (f'Training time: {hms_string(elapsed)}')\n",
        "\n",
        "    return metrics"
      ],
      "execution_count": 63,
      "outputs": []
    },
    {
      "cell_type": "code",
      "metadata": {
        "colab": {
          "base_uri": "https://localhost:8080/"
        },
        "id": "mENU89Dlhhxl",
        "outputId": "514306db-5c44-44b9-c8b8-c052d03febb5"
      },
      "source": [
        "print(generator.summary())\n",
        "print()\n",
        "print(discriminator.summary())"
      ],
      "execution_count": 64,
      "outputs": [
        {
          "output_type": "stream",
          "text": [
            "Model: \"Generator\"\n",
            "__________________________________________________________________________________________________\n",
            "Layer (type)                    Output Shape         Param #     Connected to                     \n",
            "==================================================================================================\n",
            "input_28 (InputLayer)           [(None, 64, 64, 1)]  0                                            \n",
            "__________________________________________________________________________________________________\n",
            "input_conv (Conv2D)             (None, 64, 64, 3)    30          input_28[0][0]                   \n",
            "__________________________________________________________________________________________________\n",
            "input_conv2d_transpose (Conv2DT (None, 256, 256, 3)  12          input_conv[0][0]                 \n",
            "__________________________________________________________________________________________________\n",
            "custom_block_conv2 (Conv2D)     (None, 256, 256, 64) 1792        input_conv2d_transpose[0][0]     \n",
            "__________________________________________________________________________________________________\n",
            "block1_conv1 (Conv2D)           (None, 256, 256, 64) 1792        input_conv2d_transpose[0][0]     \n",
            "__________________________________________________________________________________________________\n",
            "custom_block_pool2 (MaxPooling2 (None, 128, 128, 64) 0           custom_block_conv2[0][0]         \n",
            "__________________________________________________________________________________________________\n",
            "block1_conv2 (Conv2D)           (None, 256, 256, 64) 36928       block1_conv1[1][0]               \n",
            "__________________________________________________________________________________________________\n",
            "batch_normalization_31 (BatchNo (None, 128, 128, 64) 256         custom_block_pool2[0][0]         \n",
            "__________________________________________________________________________________________________\n",
            "block1_pool (MaxPooling2D)      (None, 128, 128, 64) 0           block1_conv2[1][0]               \n",
            "__________________________________________________________________________________________________\n",
            "leaky_re_lu_31 (LeakyReLU)      (None, 128, 128, 64) 0           batch_normalization_31[0][0]     \n",
            "__________________________________________________________________________________________________\n",
            "add_22 (Add)                    (None, 128, 128, 64) 0           block1_pool[1][0]                \n",
            "                                                                 leaky_re_lu_31[0][0]             \n",
            "__________________________________________________________________________________________________\n",
            "custom_block_conv3 (Conv2D)     (None, 128, 128, 128 73856       add_22[0][0]                     \n",
            "__________________________________________________________________________________________________\n",
            "block2_conv1 (Conv2D)           (None, 128, 128, 128 73856       add_22[0][0]                     \n",
            "__________________________________________________________________________________________________\n",
            "custom_block_pool3 (MaxPooling2 (None, 64, 64, 128)  0           custom_block_conv3[0][0]         \n",
            "__________________________________________________________________________________________________\n",
            "block2_conv2 (Conv2D)           (None, 128, 128, 128 147584      block2_conv1[1][0]               \n",
            "__________________________________________________________________________________________________\n",
            "batch_normalization_32 (BatchNo (None, 64, 64, 128)  512         custom_block_pool3[0][0]         \n",
            "__________________________________________________________________________________________________\n",
            "block2_pool (MaxPooling2D)      (None, 64, 64, 128)  0           block2_conv2[1][0]               \n",
            "__________________________________________________________________________________________________\n",
            "leaky_re_lu_32 (LeakyReLU)      (None, 64, 64, 128)  0           batch_normalization_32[0][0]     \n",
            "__________________________________________________________________________________________________\n",
            "add_23 (Add)                    (None, 64, 64, 128)  0           block2_pool[1][0]                \n",
            "                                                                 leaky_re_lu_32[0][0]             \n",
            "__________________________________________________________________________________________________\n",
            "block3_conv1 (Conv2D)           (None, 64, 64, 256)  295168      add_23[0][0]                     \n",
            "__________________________________________________________________________________________________\n",
            "block3_conv2 (Conv2D)           (None, 64, 64, 256)  590080      block3_conv1[1][0]               \n",
            "__________________________________________________________________________________________________\n",
            "block3_conv3 (Conv2D)           (None, 64, 64, 256)  590080      block3_conv2[1][0]               \n",
            "__________________________________________________________________________________________________\n",
            "output_conv (Conv2D)            (None, 64, 64, 3)    6915        block3_conv3[1][0]               \n",
            "__________________________________________________________________________________________________\n",
            "output_activation (Activation)  (None, 64, 64, 3)    0           output_conv[0][0]                \n",
            "==================================================================================================\n",
            "Total params: 1,818,861\n",
            "Trainable params: 82,989\n",
            "Non-trainable params: 1,735,872\n",
            "__________________________________________________________________________________________________\n",
            "None\n",
            "\n",
            "Model: \"Discriminator\"\n",
            "__________________________________________________________________________________________________\n",
            "Layer (type)                    Output Shape         Param #     Connected to                     \n",
            "==================================================================================================\n",
            "input_30 (InputLayer)           [(None, 64, 64, 3)]  0                                            \n",
            "__________________________________________________________________________________________________\n",
            "block1_conv1 (Conv2D)           (None, 64, 64, 64)   1792        input_30[0][0]                   \n",
            "__________________________________________________________________________________________________\n",
            "block1_conv2 (Conv2D)           (None, 64, 64, 64)   36928       block1_conv1[0][0]               \n",
            "__________________________________________________________________________________________________\n",
            "block1_pool (MaxPooling2D)      (None, 32, 32, 64)   0           block1_conv2[0][0]               \n",
            "__________________________________________________________________________________________________\n",
            "block2_conv1 (Conv2D)           (None, 32, 32, 128)  73856       block1_pool[0][0]                \n",
            "__________________________________________________________________________________________________\n",
            "block2_conv2 (Conv2D)           (None, 32, 32, 128)  147584      block2_conv1[0][0]               \n",
            "__________________________________________________________________________________________________\n",
            "block2_pool (MaxPooling2D)      (None, 16, 16, 128)  0           block2_conv2[0][0]               \n",
            "__________________________________________________________________________________________________\n",
            "block3_conv1 (Conv2D)           (None, 16, 16, 256)  295168      block2_pool[0][0]                \n",
            "__________________________________________________________________________________________________\n",
            "block3_conv2 (Conv2D)           (None, 16, 16, 256)  590080      block3_conv1[0][0]               \n",
            "__________________________________________________________________________________________________\n",
            "block3_conv3 (Conv2D)           (None, 16, 16, 256)  590080      block3_conv2[0][0]               \n",
            "__________________________________________________________________________________________________\n",
            "block3_pool (MaxPooling2D)      (None, 8, 8, 256)    0           block3_conv3[0][0]               \n",
            "__________________________________________________________________________________________________\n",
            "block4_conv1 (Conv2D)           (None, 8, 8, 512)    1180160     block3_pool[0][0]                \n",
            "__________________________________________________________________________________________________\n",
            "block4_conv2 (Conv2D)           (None, 8, 8, 512)    2359808     block4_conv1[0][0]               \n",
            "__________________________________________________________________________________________________\n",
            "block4_conv3 (Conv2D)           (None, 8, 8, 512)    2359808     block4_conv2[0][0]               \n",
            "__________________________________________________________________________________________________\n",
            "block4_pool (MaxPooling2D)      (None, 4, 4, 512)    0           block4_conv3[0][0]               \n",
            "__________________________________________________________________________________________________\n",
            "block5_conv1 (Conv2D)           (None, 4, 4, 512)    2359808     block4_pool[0][0]                \n",
            "__________________________________________________________________________________________________\n",
            "block5_conv2 (Conv2D)           (None, 4, 4, 512)    2359808     block5_conv1[0][0]               \n",
            "__________________________________________________________________________________________________\n",
            "block5_conv3 (Conv2D)           (None, 4, 4, 512)    2359808     block5_conv2[0][0]               \n",
            "__________________________________________________________________________________________________\n",
            "block5_pool (MaxPooling2D)      (None, 2, 2, 512)    0           block5_conv3[0][0]               \n",
            "__________________________________________________________________________________________________\n",
            "dropout_9 (Dropout)             (None, 2, 2, 512)    0           block5_pool[0][0]                \n",
            "__________________________________________________________________________________________________\n",
            "conv2d_9 (Conv2D)               (None, 2, 2, 256)    1179904     dropout_9[0][0]                  \n",
            "__________________________________________________________________________________________________\n",
            "batch_normalization_33 (BatchNo (None, 2, 2, 256)    1024        conv2d_9[0][0]                   \n",
            "__________________________________________________________________________________________________\n",
            "leaky_re_lu_33 (LeakyReLU)      (None, 2, 2, 256)    0           batch_normalization_33[0][0]     \n",
            "__________________________________________________________________________________________________\n",
            "dropout_10 (Dropout)            (None, 2, 2, 256)    0           leaky_re_lu_33[0][0]             \n",
            "__________________________________________________________________________________________________\n",
            "conv2d_10 (Conv2D)              (None, 2, 2, 512)    1180160     dropout_10[0][0]                 \n",
            "__________________________________________________________________________________________________\n",
            "conv2d_11 (Conv2D)              (None, 2, 2, 512)    2359808     block5_pool[0][0]                \n",
            "__________________________________________________________________________________________________\n",
            "batch_normalization_34 (BatchNo (None, 2, 2, 512)    2048        conv2d_10[0][0]                  \n",
            "__________________________________________________________________________________________________\n",
            "batch_normalization_35 (BatchNo (None, 2, 2, 512)    2048        conv2d_11[0][0]                  \n",
            "__________________________________________________________________________________________________\n",
            "leaky_re_lu_34 (LeakyReLU)      (None, 2, 2, 512)    0           batch_normalization_34[0][0]     \n",
            "__________________________________________________________________________________________________\n",
            "leaky_re_lu_35 (LeakyReLU)      (None, 2, 2, 512)    0           batch_normalization_35[0][0]     \n",
            "__________________________________________________________________________________________________\n",
            "addition_layer (Add)            (None, 2, 2, 512)    0           leaky_re_lu_34[0][0]             \n",
            "                                                                 leaky_re_lu_35[0][0]             \n",
            "__________________________________________________________________________________________________\n",
            "dropout_11 (Dropout)            (None, 2, 2, 512)    0           addition_layer[0][0]             \n",
            "__________________________________________________________________________________________________\n",
            "flatten_3 (Flatten)             (None, 2048)         0           dropout_11[0][0]                 \n",
            "__________________________________________________________________________________________________\n",
            "dense_3 (Dense)                 (None, 1)            2049        flatten_3[0][0]                  \n",
            "==================================================================================================\n",
            "Total params: 19,441,729\n",
            "Trainable params: 4,724,481\n",
            "Non-trainable params: 14,717,248\n",
            "__________________________________________________________________________________________________\n",
            "None\n"
          ],
          "name": "stdout"
        }
      ]
    },
    {
      "cell_type": "code",
      "metadata": {
        "colab": {
          "base_uri": "https://localhost:8080/",
          "height": 35
        },
        "id": "1zgeBA8eno0m",
        "outputId": "509bad66-836f-41be-dacb-06a9ce109c1e"
      },
      "source": [
        "#Plot model only when necessary\n",
        "\n",
        "'''\n",
        "tf.keras.utils.plot_model(\n",
        "    generator,\n",
        "    to_file = 'generator.png',\n",
        "    show_shapes = True,\n",
        "    show_layer_names = True,\n",
        "    expand_nested = True,\n",
        "    dpi = 96\n",
        ")\n",
        "'''"
      ],
      "execution_count": 65,
      "outputs": [
        {
          "output_type": "execute_result",
          "data": {
            "application/vnd.google.colaboratory.intrinsic+json": {
              "type": "string"
            },
            "text/plain": [
              "\"\\ntf.keras.utils.plot_model(\\n    generator,\\n    to_file = 'generator.png',\\n    show_shapes = True,\\n    show_layer_names = True,\\n    expand_nested = True,\\n    dpi = 96\\n)\\n\""
            ]
          },
          "metadata": {
            "tags": []
          },
          "execution_count": 65
        }
      ]
    },
    {
      "cell_type": "code",
      "metadata": {
        "colab": {
          "base_uri": "https://localhost:8080/",
          "height": 52
        },
        "id": "4yrXrJWnobZd",
        "outputId": "d44c71ed-fd0e-4942-dc5a-6014f471ea7a"
      },
      "source": [
        "#Plot model only when necessary\n",
        "\n",
        "'''\n",
        "tf.keras.utils.plot_model(\n",
        "    discriminator,\n",
        "    to_file = 'discriminator.png',\n",
        "    show_shapes = True,\n",
        "    show_layer_names = True,\n",
        "    expand_nested = True,\n",
        "    dpi = 96\n",
        ")\n",
        "'''"
      ],
      "execution_count": 66,
      "outputs": [
        {
          "output_type": "execute_result",
          "data": {
            "application/vnd.google.colaboratory.intrinsic+json": {
              "type": "string"
            },
            "text/plain": [
              "\"\\ntf.keras.utils.plot_model(\\n    discriminator,\\n    to_file = 'discriminator.png',\\n    show_shapes = True,\\n    show_layer_names = True,\\n    expand_nested = True,\\n    dpi = 96\\n)\\n\""
            ]
          },
          "metadata": {
            "tags": []
          },
          "execution_count": 66
        }
      ]
    },
    {
      "cell_type": "code",
      "metadata": {
        "id": "RmyLRPwvolXv",
        "colab": {
          "base_uri": "https://localhost:8080/"
        },
        "outputId": "834efee5-6cbb-4dcc-8a4e-50eba5d23484"
      },
      "source": [
        "steps_per_epoch = int(np.ceil(bw_image_generator.n/bw_image_generator.batch_size))\n",
        "\n",
        "bw_image_generator.reset()\n",
        "cl_image_generator.reset()\n",
        "history = train(bw_image_generator, cl_image_generator, EPOCHS, steps_per_epoch)"
      ],
      "execution_count": 67,
      "outputs": [
        {
          "output_type": "stream",
          "text": [
            "Epoch 1, gen loss=9.161691665649414,disc loss=0.019863968715071678, epoch_time=0:01:09.75\n",
            "Epoch 2, gen loss=11.7040376663208,disc loss=0.00047598013770766556, epoch_time=0:01:06.09\n",
            "Epoch 3, gen loss=12.038222312927246,disc loss=0.0002885283902287483, epoch_time=0:01:05.71\n",
            "Epoch 4, gen loss=12.274359703063965,disc loss=0.0002372271119384095, epoch_time=0:01:05.62\n",
            "Epoch 5, gen loss=12.986191749572754,disc loss=0.13452254235744476, epoch_time=0:01:05.78\n",
            "Epoch 6, gen loss=12.813361167907715,disc loss=0.00040935431024990976, epoch_time=0:01:05.74\n",
            "Epoch 7, gen loss=13.017070770263672,disc loss=0.0005874746129848063, epoch_time=0:01:05.77\n",
            "Epoch 8, gen loss=13.231058120727539,disc loss=0.0003456984704826027, epoch_time=0:01:06.15\n",
            "Epoch 9, gen loss=13.497946739196777,disc loss=0.0002042132109636441, epoch_time=0:01:06.05\n",
            "Epoch 10, gen loss=13.98340129852295,disc loss=0.00011831481970148161, epoch_time=0:01:05.97\n",
            "Epoch 11, gen loss=14.316302299499512,disc loss=0.00011558164987945929, epoch_time=0:01:05.93\n",
            "Epoch 12, gen loss=14.822823524475098,disc loss=0.0001171688491012901, epoch_time=0:01:05.96\n",
            "Epoch 13, gen loss=14.774161338806152,disc loss=6.0763981309719384e-05, epoch_time=0:01:05.79\n",
            "Epoch 14, gen loss=14.892576217651367,disc loss=6.2770297518e-05, epoch_time=0:01:06.35\n",
            "Epoch 15, gen loss=15.322783470153809,disc loss=5.121392314322293e-05, epoch_time=0:01:05.87\n",
            "Epoch 16, gen loss=15.55867862701416,disc loss=5.0955990445800126e-05, epoch_time=0:01:06.31\n",
            "Epoch 17, gen loss=15.456639289855957,disc loss=3.338320675538853e-05, epoch_time=0:01:06.12\n",
            "Epoch 18, gen loss=15.669760704040527,disc loss=4.292451558285393e-05, epoch_time=0:01:06.04\n",
            "Epoch 19, gen loss=15.885481834411621,disc loss=5.112794679007493e-05, epoch_time=0:01:06.15\n",
            "Epoch 20, gen loss=16.24542236328125,disc loss=3.672688762890175e-05, epoch_time=0:01:05.90\n",
            "Epoch 21, gen loss=16.47348976135254,disc loss=4.233824074617587e-05, epoch_time=0:01:05.77\n",
            "Epoch 22, gen loss=16.527441024780273,disc loss=3.827923137578182e-05, epoch_time=0:01:05.67\n",
            "Epoch 23, gen loss=10.750869750976562,disc loss=0.16950421035289764, epoch_time=0:01:05.80\n",
            "Epoch 24, gen loss=12.057414054870605,disc loss=0.0016654276987537742, epoch_time=0:01:06.07\n",
            "Epoch 25, gen loss=12.177403450012207,disc loss=0.0004337131977081299, epoch_time=0:01:06.17\n",
            "Epoch 26, gen loss=12.159887313842773,disc loss=0.0005135307437740266, epoch_time=0:01:05.93\n",
            "Epoch 27, gen loss=11.029708862304688,disc loss=0.0404687263071537, epoch_time=0:01:05.98\n",
            "Epoch 28, gen loss=12.233020782470703,disc loss=0.007540486752986908, epoch_time=0:01:06.12\n",
            "Epoch 29, gen loss=9.575039863586426,disc loss=0.05686678737401962, epoch_time=0:01:05.81\n",
            "Epoch 30, gen loss=10.138286590576172,disc loss=0.0044010234996676445, epoch_time=0:01:06.19\n",
            "Epoch 31, gen loss=12.001407623291016,disc loss=0.014790966175496578, epoch_time=0:01:05.92\n",
            "Epoch 32, gen loss=12.028504371643066,disc loss=0.022499699145555496, epoch_time=0:01:05.68\n",
            "Epoch 33, gen loss=12.634464263916016,disc loss=0.009936276823282242, epoch_time=0:01:05.71\n",
            "Epoch 34, gen loss=15.313074111938477,disc loss=0.02481158822774887, epoch_time=0:01:05.82\n",
            "Epoch 35, gen loss=15.241743087768555,disc loss=0.0069840154610574245, epoch_time=0:01:06.04\n",
            "Epoch 36, gen loss=14.035745620727539,disc loss=0.030337775126099586, epoch_time=0:01:06.09\n",
            "Epoch 37, gen loss=12.710350036621094,disc loss=0.018829429522156715, epoch_time=0:01:06.04\n",
            "Epoch 38, gen loss=12.1221923828125,disc loss=0.06386182457208633, epoch_time=0:01:06.01\n",
            "Epoch 39, gen loss=12.299708366394043,disc loss=0.00541896466165781, epoch_time=0:01:06.00\n",
            "Epoch 40, gen loss=13.325471878051758,disc loss=0.005057139787822962, epoch_time=0:01:05.77\n",
            "Epoch 41, gen loss=13.755889892578125,disc loss=0.006478400435298681, epoch_time=0:01:05.73\n",
            "Epoch 42, gen loss=13.590136528015137,disc loss=0.003284224309027195, epoch_time=0:01:05.75\n",
            "Epoch 43, gen loss=14.660752296447754,disc loss=0.0021635121665894985, epoch_time=0:01:06.01\n",
            "Epoch 44, gen loss=12.301746368408203,disc loss=0.1480632871389389, epoch_time=0:01:05.95\n",
            "Epoch 45, gen loss=14.145777702331543,disc loss=0.0046349260956048965, epoch_time=0:01:05.63\n",
            "Epoch 46, gen loss=14.397027969360352,disc loss=0.010469997301697731, epoch_time=0:01:05.89\n",
            "Epoch 47, gen loss=14.150768280029297,disc loss=0.02587646059691906, epoch_time=0:01:06.06\n",
            "Epoch 48, gen loss=16.216114044189453,disc loss=0.04052283614873886, epoch_time=0:01:05.82\n",
            "Epoch 49, gen loss=11.57625961303711,disc loss=0.08857598900794983, epoch_time=0:01:05.69\n",
            "Epoch 50, gen loss=12.171219825744629,disc loss=0.014227369800209999, epoch_time=0:01:05.75\n",
            "Epoch 51, gen loss=13.133893966674805,disc loss=0.00855997297912836, epoch_time=0:01:05.95\n",
            "Epoch 52, gen loss=12.729059219360352,disc loss=0.06259259581565857, epoch_time=0:01:05.91\n",
            "Epoch 53, gen loss=12.648289680480957,disc loss=0.0073280660435557365, epoch_time=0:01:05.81\n",
            "Epoch 54, gen loss=14.503515243530273,disc loss=0.03845350444316864, epoch_time=0:01:05.76\n",
            "Epoch 55, gen loss=17.526512145996094,disc loss=0.010493535548448563, epoch_time=0:01:05.85\n",
            "Epoch 56, gen loss=15.869606018066406,disc loss=0.09702356159687042, epoch_time=0:01:05.86\n",
            "Epoch 57, gen loss=15.584430694580078,disc loss=0.016406748443841934, epoch_time=0:01:06.24\n",
            "Epoch 58, gen loss=14.176172256469727,disc loss=0.05728916823863983, epoch_time=0:01:05.69\n",
            "Epoch 59, gen loss=11.600629806518555,disc loss=0.057630717754364014, epoch_time=0:01:05.74\n",
            "Epoch 60, gen loss=14.796730041503906,disc loss=0.10235714912414551, epoch_time=0:01:05.79\n",
            "Epoch 61, gen loss=15.833032608032227,disc loss=0.05275518447160721, epoch_time=0:01:05.75\n",
            "Epoch 62, gen loss=14.408886909484863,disc loss=0.014717698097229004, epoch_time=0:01:05.79\n",
            "Epoch 63, gen loss=12.898897171020508,disc loss=0.015781279653310776, epoch_time=0:01:05.70\n",
            "Epoch 64, gen loss=13.031248092651367,disc loss=0.007173184771090746, epoch_time=0:01:05.64\n",
            "Epoch 65, gen loss=12.548782348632812,disc loss=0.11763770878314972, epoch_time=0:01:05.70\n",
            "Epoch 66, gen loss=11.375014305114746,disc loss=0.059234436601400375, epoch_time=0:01:05.69\n",
            "Epoch 67, gen loss=14.445226669311523,disc loss=0.006511012092232704, epoch_time=0:01:05.86\n",
            "Epoch 68, gen loss=13.437926292419434,disc loss=0.11057697236537933, epoch_time=0:01:05.78\n",
            "Epoch 69, gen loss=13.132015228271484,disc loss=0.03826439380645752, epoch_time=0:01:05.75\n",
            "Epoch 70, gen loss=13.761658668518066,disc loss=0.041882604360580444, epoch_time=0:01:05.85\n",
            "Epoch 71, gen loss=13.47901439666748,disc loss=0.05121820047497749, epoch_time=0:01:05.80\n",
            "Epoch 72, gen loss=15.463669776916504,disc loss=0.03586065396666527, epoch_time=0:01:05.77\n",
            "Epoch 73, gen loss=14.972433090209961,disc loss=0.03348149359226227, epoch_time=0:01:05.70\n",
            "Epoch 74, gen loss=15.32146167755127,disc loss=0.01003196183592081, epoch_time=0:01:05.81\n",
            "Epoch 75, gen loss=16.774978637695312,disc loss=0.021823614835739136, epoch_time=0:01:05.75\n",
            "Epoch 76, gen loss=16.413965225219727,disc loss=0.019879687577486038, epoch_time=0:01:05.68\n",
            "Epoch 77, gen loss=17.80977439880371,disc loss=0.09309954941272736, epoch_time=0:01:05.79\n",
            "Epoch 78, gen loss=13.703271865844727,disc loss=0.12177296727895737, epoch_time=0:01:05.76\n",
            "Epoch 79, gen loss=13.755656242370605,disc loss=0.08643855154514313, epoch_time=0:01:05.61\n",
            "Epoch 80, gen loss=11.725678443908691,disc loss=0.06575405597686768, epoch_time=0:01:05.62\n",
            "Epoch 81, gen loss=12.137676239013672,disc loss=0.029468053951859474, epoch_time=0:01:05.55\n",
            "Epoch 82, gen loss=11.866748809814453,disc loss=0.04342644289135933, epoch_time=0:01:05.77\n",
            "Epoch 83, gen loss=12.955756187438965,disc loss=0.017769236117601395, epoch_time=0:01:05.70\n",
            "Epoch 84, gen loss=12.393096923828125,disc loss=0.06750710308551788, epoch_time=0:01:05.51\n",
            "Epoch 85, gen loss=11.62368392944336,disc loss=0.031271230429410934, epoch_time=0:01:05.45\n",
            "Epoch 86, gen loss=12.359585762023926,disc loss=0.04034141078591347, epoch_time=0:01:05.47\n",
            "Epoch 87, gen loss=14.383676528930664,disc loss=0.028892328962683678, epoch_time=0:01:05.45\n",
            "Epoch 88, gen loss=14.72131061553955,disc loss=0.016218386590480804, epoch_time=0:01:05.60\n",
            "Epoch 89, gen loss=14.112405776977539,disc loss=0.07602953165769577, epoch_time=0:01:05.51\n",
            "Epoch 90, gen loss=12.703582763671875,disc loss=0.14172020554542542, epoch_time=0:01:05.69\n",
            "Epoch 91, gen loss=12.402478218078613,disc loss=0.023749176412820816, epoch_time=0:01:05.73\n",
            "Epoch 92, gen loss=11.965262413024902,disc loss=0.031607430428266525, epoch_time=0:01:05.70\n",
            "Epoch 93, gen loss=12.720784187316895,disc loss=0.07740538567304611, epoch_time=0:01:05.74\n",
            "Epoch 94, gen loss=11.739654541015625,disc loss=0.01937088370323181, epoch_time=0:01:05.78\n",
            "Epoch 95, gen loss=12.813322067260742,disc loss=0.028834819793701172, epoch_time=0:01:05.69\n",
            "Epoch 96, gen loss=13.453856468200684,disc loss=0.07461640983819962, epoch_time=0:01:05.68\n",
            "Epoch 97, gen loss=11.76228141784668,disc loss=0.04672370105981827, epoch_time=0:01:05.72\n",
            "Epoch 98, gen loss=12.72228717803955,disc loss=0.19868193566799164, epoch_time=0:01:05.71\n",
            "Epoch 99, gen loss=12.909406661987305,disc loss=0.06404603272676468, epoch_time=0:01:05.66\n",
            "Epoch 100, gen loss=13.74402141571045,disc loss=0.0869942158460617, epoch_time=0:01:05.66\n",
            "Training time: 1:50:26.52\n"
          ],
          "name": "stdout"
        }
      ]
    },
    {
      "cell_type": "code",
      "metadata": {
        "id": "upUfMQN6orZd"
      },
      "source": [
        "generator.save(os.path.join(DATA_PATH,\"color_generator.h5\"))"
      ],
      "execution_count": 68,
      "outputs": []
    }
  ]
}