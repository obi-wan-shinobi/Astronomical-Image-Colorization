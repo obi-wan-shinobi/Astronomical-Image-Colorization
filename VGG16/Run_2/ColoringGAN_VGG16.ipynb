{
  "nbformat": 4,
  "nbformat_minor": 0,
  "metadata": {
    "colab": {
      "name": "ColoringGAN_VGG16.ipynb",
      "provenance": [],
      "collapsed_sections": []
    },
    "kernelspec": {
      "name": "python3",
      "display_name": "Python 3"
    },
    "language_info": {
      "name": "python"
    },
    "accelerator": "GPU"
  },
  "cells": [
    {
      "cell_type": "markdown",
      "metadata": {
        "id": "yygs2BHEEeDd"
      },
      "source": [
        "\n",
        "The main notebook for Coloring GAN using VGG16 weights\n",
        "\n"
      ]
    },
    {
      "cell_type": "code",
      "metadata": {
        "id": "EaIsn7h2F-vq"
      },
      "source": [
        "!unzip -q '/content/drive/My Drive/BE_project/data.zip'"
      ],
      "execution_count": 1,
      "outputs": []
    },
    {
      "cell_type": "code",
      "metadata": {
        "colab": {
          "base_uri": "https://localhost:8080/"
        },
        "id": "8nuPLSMEGIay",
        "outputId": "b56134a1-fa4a-45a7-f93c-7ceee2ed8567"
      },
      "source": [
        "import tensorflow as tf\n",
        "gpus = tf.config.experimental.list_physical_devices('GPU')\n",
        "if gpus:\n",
        "    try:\n",
        "        # Restrict TensorFlow to only use the fourth GPU\n",
        "        tf.config.experimental.set_visible_devices(gpus[0], 'GPU')\n",
        "\n",
        "        # Currently, memory growth needs to be the same across GPUs\n",
        "        for gpu in gpus:\n",
        "            tf.config.experimental.set_memory_growth(gpu, True)\n",
        "        logical_gpus = tf.config.experimental.list_logical_devices('GPU')\n",
        "        print(len(gpus), \"Physical GPUs,\", len(logical_gpus), \"Logical GPUs\")\n",
        "    except RuntimeError as e:\n",
        "        # Memory growth must be set before GPUs have been initialized\n",
        "        print(e)\n",
        "        \n",
        "#tf.compat.v1.disable_v2_behavior()"
      ],
      "execution_count": 2,
      "outputs": [
        {
          "output_type": "stream",
          "text": [
            "1 Physical GPUs, 1 Logical GPUs\n"
          ],
          "name": "stdout"
        }
      ]
    },
    {
      "cell_type": "code",
      "metadata": {
        "id": "usi9E7x2GlkK"
      },
      "source": [
        "from tensorflow.keras.layers import Input, Reshape, Dropout, Dense, Add\n",
        "from tensorflow.keras.layers import Flatten, BatchNormalization\n",
        "from tensorflow.keras.layers import Activation, ZeroPadding2D\n",
        "from tensorflow.keras.layers import LeakyReLU\n",
        "from tensorflow.keras.layers import UpSampling2D, Conv2D, Conv2DTranspose\n",
        "from tensorflow.keras.models import Sequential, Model, load_model\n",
        "from tensorflow.keras.optimizers import Adam\n",
        "from tensorflow.keras.preprocessing.image import img_to_array,ImageDataGenerator\n",
        "\n",
        "from tensorflow.keras.applications.vgg16 import VGG16\n",
        "\n",
        "import numpy as np\n",
        "from PIL import Image\n",
        "import os \n",
        "import time\n",
        "import matplotlib.pyplot as plt\n",
        "import csv"
      ],
      "execution_count": 23,
      "outputs": []
    },
    {
      "cell_type": "markdown",
      "metadata": {
        "id": "cXmZQjtTE1VP"
      },
      "source": [
        "This part is only for displaying the time for epochs in a formatted fashion. Do not play around over here"
      ]
    },
    {
      "cell_type": "code",
      "metadata": {
        "id": "OUYk4F3WHjXB"
      },
      "source": [
        "# Nicely formatted time string\n",
        "def hms_string(sec_elapsed):\n",
        "    h = int(sec_elapsed / (60 * 60))\n",
        "    m = int((sec_elapsed % (60 * 60)) / 60)\n",
        "    s = sec_elapsed % 60\n",
        "    return \"{}:{:>02}:{:>05.2f}\".format(h, m, s)"
      ],
      "execution_count": 4,
      "outputs": []
    },
    {
      "cell_type": "code",
      "metadata": {
        "colab": {
          "base_uri": "https://localhost:8080/"
        },
        "id": "1VAFhr-VHl_X",
        "outputId": "596b0915-6287-4799-8b8a-d5033b4ef127"
      },
      "source": [
        "# Generation resolution - Must be square \n",
        "# Training data is also scaled to this.\n",
        "# Note GENERATE_RES 4 or higher  \n",
        "# will blow Google CoLab's memory and have not\n",
        "# been tested extensivly.\n",
        "GENERATE_RES = 3 # Generation resolution factor \n",
        "# (1=32, 2=64, 3=96, 4=128, etc.)\n",
        "GENERATE_SQUARE = 64 # rows/cols (should be square)\n",
        "GEN_IMAGE_CHANNELS = 3\n",
        "INPUT_IMAGE_CHANNELS = 1\n",
        "\n",
        "# Preview image \n",
        "PREVIEW_ROWS = 1\n",
        "PREVIEW_COLS = 3\n",
        "PREVIEW_MARGIN = 8\n",
        "\n",
        "# Size vector to generate images from\n",
        "SEED_SIZE = 1\n",
        "\n",
        "# Configuration\n",
        "if(not os.path.exists('/content/drive/My Drive/BE_project/output/colorised/')):\n",
        "  path = '/content/drive/My Drive/BE_project/output/colorised/'\n",
        "  os.makedirs(path)\n",
        "  print(f\"Created new directory: {path}\")\n",
        "\n",
        "DATA_PATH = '/content/drive/My Drive/BE_project/output/colorised/'\n",
        "TRAIN_PATH = '/content/dataset/'\n",
        "\n",
        "log_file = '/content/drive/My Drive/BE_project/output/training_history.csv'\n",
        "\n",
        "EPOCHS = 50\n",
        "BATCH_SIZE = 32\n",
        "BUFFER_SIZE = 60000\n",
        "\n",
        "print(f\"Will generate {GENERATE_SQUARE}px square images.\")"
      ],
      "execution_count": 5,
      "outputs": [
        {
          "output_type": "stream",
          "text": [
            "Will generate 64px square images.\n"
          ],
          "name": "stdout"
        }
      ]
    },
    {
      "cell_type": "markdown",
      "metadata": {
        "id": "DHT7D9ghFAF-"
      },
      "source": [
        "These are the data generators used for producing batches of colored and subsequent black and white images"
      ]
    },
    {
      "cell_type": "code",
      "metadata": {
        "colab": {
          "base_uri": "https://localhost:8080/"
        },
        "id": "1N7LlaV-I_7h",
        "outputId": "126e01f3-8958-4d2d-a7d1-99b45c86ffae"
      },
      "source": [
        "bw_datagen = ImageDataGenerator(\n",
        "    rescale= 1./255,\n",
        ")\n",
        "\n",
        "bw_image_generator = bw_datagen.flow_from_directory(\n",
        "    TRAIN_PATH,\n",
        "    class_mode=None,\n",
        "    color_mode=\"grayscale\",\n",
        "    batch_size=16,\n",
        "    target_size=(GENERATE_SQUARE, GENERATE_SQUARE),\n",
        "    seed=None,\n",
        "    shuffle=False\n",
        ")\n",
        "\n",
        "\n",
        "cl_datagen = ImageDataGenerator(\n",
        "    rescale= 1./255\n",
        ")\n",
        "\n",
        "cl_image_generator = cl_datagen.flow_from_directory(\n",
        "    TRAIN_PATH,\n",
        "    class_mode=None,\n",
        "    color_mode=\"rgb\",\n",
        "    batch_size=16,\n",
        "    target_size=(GENERATE_SQUARE, GENERATE_SQUARE),\n",
        "    seed=None,\n",
        "    shuffle=False\n",
        ")"
      ],
      "execution_count": 6,
      "outputs": [
        {
          "output_type": "stream",
          "text": [
            "Found 4776 images belonging to 1 classes.\n",
            "Found 4776 images belonging to 1 classes.\n"
          ],
          "name": "stdout"
        }
      ]
    },
    {
      "cell_type": "markdown",
      "metadata": {
        "id": "K3_PB1OLFHYP"
      },
      "source": [
        "We build our generator network"
      ]
    },
    {
      "cell_type": "code",
      "metadata": {
        "colab": {
          "base_uri": "https://localhost:8080/",
          "height": 220
        },
        "id": "m4ELblzPc4c1",
        "outputId": "fdb8c064-a32c-4580-fcb1-a432fc7dcd7f"
      },
      "source": [
        "plt.figure()\n",
        "\n",
        "#subplot(r,c) provide the no. of rows and columns\n",
        "f, axarr = plt.subplots(1,2) \n",
        "i = 0\n",
        "for bw_image, cl_image in zip(bw_image_generator, cl_image_generator):\n",
        "  if(i<40):\n",
        "    i+=1\n",
        "    continue\n",
        "  bw = np.concatenate((bw_image,)*3, axis=-1)\n",
        "  axarr[0].imshow(bw[0])\n",
        "  axarr[1].imshow(cl_image[0])\n",
        "  break"
      ],
      "execution_count": 7,
      "outputs": [
        {
          "output_type": "display_data",
          "data": {
            "text/plain": [
              "<Figure size 432x288 with 0 Axes>"
            ]
          },
          "metadata": {
            "tags": []
          }
        },
        {
          "output_type": "display_data",
          "data": {
            "image/png": "[encoded data removed]",
            "text/plain": [
              "<Figure size 432x288 with 2 Axes>"
            ]
          },
          "metadata": {
            "tags": [],
            "needs_background": "light"
          }
        }
      ]
    },
    {
      "cell_type": "code",
      "metadata": {
        "id": "qgjP1RTac3-c"
      },
      "source": [
        ""
      ],
      "execution_count": null,
      "outputs": []
    },
    {
      "cell_type": "code",
      "metadata": {
        "id": "_bNOQwhvJlxh"
      },
      "source": [
        "def build_generator(channels, image_shape = (720,720,1)):\n",
        "    input_tensor = Input(shape=image_shape)\n",
        "    X = Conv2D(filters = 3, kernel_size=3, padding='same', name=\"input_conv\")(input_tensor)\n",
        "    #X = UpSampling2D(size=(4,4), name='upsample_input')(X)\n",
        "    X = Conv2DTranspose(3, (1,1), strides=(4,4), input_shape=(64,64, 3), name='input_conv2d_transpose')(X)\n",
        "\n",
        "    vgg16 = VGG16(include_top=False, weights='imagenet',input_shape=(256,256,3))\n",
        "    \n",
        "    block = 1\n",
        "    for i in range(1,len(vgg16.layers)):\n",
        "        if(vgg16.layers[i].name == 'block3_pool'):\n",
        "            break\n",
        "        if(f'block{block}' in vgg16.layers[i].name):\n",
        "            X = Conv2D(filters = vgg16.layers[i].input_spec.axes[-1], kernel_size = (3,3), padding='same', name=f\"custom_block_conv{block}\")(X)\n",
        "            block+=1\n",
        "        X = vgg16.layers[i](X)\n",
        "\n",
        "    X =  Conv2D(filters = channels, kernel_size=3, padding='same', name='output_conv')(X)\n",
        "    X = Activation('tanh', name='output_activation')(X)\n",
        "\n",
        "    model = Model(inputs = input_tensor, outputs = X, name='Generator')\n",
        "    \n",
        "    custom_layers = set(['input_conv','upsample_input','output_conv','output_activation','input_conv2d_transpose'])\n",
        "    \n",
        "    for layer in model.layers:\n",
        "        if(layer.name not in custom_layers and 'custom' not in layer.name):\n",
        "            layer.trainable = False\n",
        "    \n",
        "    return model"
      ],
      "execution_count": 8,
      "outputs": []
    },
    {
      "cell_type": "markdown",
      "metadata": {
        "id": "-_FLrYq7FKrc"
      },
      "source": [
        "We build the discriminator network"
      ]
    },
    {
      "cell_type": "code",
      "metadata": {
        "id": "394BFmlJL04e"
      },
      "source": [
        "def build_discriminator(image_shape=(720,720,3)):\n",
        "    vgg16 = VGG16(include_top=False, weights='imagenet',input_shape=image_shape)\n",
        "    i=1\n",
        "    for layer in vgg16.layers:\n",
        "        if(i%2):\n",
        "            i+=1\n",
        "            continue\n",
        "        layer.trainable = False\n",
        "    \n",
        "    X_shortcut = vgg16.output\n",
        "    \n",
        "    X = Dropout(0.25)(vgg16.output)\n",
        "    X = Conv2D(filters = 256, kernel_size=3, strides=1, padding='same')(X)\n",
        "    X = BatchNormalization(momentum=0.8)(X)\n",
        "    X = LeakyReLU(alpha=0.2)(X)\n",
        "\n",
        "    X = Dropout(0.25)(X)\n",
        "    X = Conv2D(filters = 512, kernel_size=3, strides=1, padding='same')(X)\n",
        "    X = BatchNormalization(momentum=0.8)(X)\n",
        "    X = LeakyReLU(alpha=0.2)(X)\n",
        "    \n",
        "    X_shortcut = Conv2D(filters = 512, kernel_size = (3,3), strides=1, padding='same')(X_shortcut)\n",
        "    X_shortcut = BatchNormalization(momentum=0.8)(X_shortcut)\n",
        "    X_shortcut = LeakyReLU(alpha=0.2)(X_shortcut)\n",
        "    \n",
        "    X = Add(name='addition_layer')([X,X_shortcut])\n",
        "\n",
        "    X = Dropout(0.25)(X)\n",
        "    X = Flatten()(X)\n",
        "    X = Dense(1, activation='sigmoid')(X)\n",
        "\n",
        "    model = Model(inputs = vgg16.input, outputs = X, name='Discriminator')\n",
        "\n",
        "    return model"
      ],
      "execution_count": 19,
      "outputs": []
    },
    {
      "cell_type": "markdown",
      "metadata": {
        "id": "iHDJiaLWFPaD"
      },
      "source": [
        "Let's create an instance of network optimizers. We'll use them later on to apply weights using gradient tape. For now, we'll just initialize them with appropriate names"
      ]
    },
    {
      "cell_type": "code",
      "metadata": {
        "id": "H2jRziddQJQd"
      },
      "source": [
        "generator_optimizer = tf.keras.optimizers.Adam(1.5e-4,0.5)\n",
        "discriminator_optimizer = tf.keras.optimizers.Adam(1.5e-4,0.5)"
      ],
      "execution_count": 20,
      "outputs": []
    },
    {
      "cell_type": "markdown",
      "metadata": {
        "id": "992hAGW1F7pt"
      },
      "source": [
        "We see how our generator network performs with initialized weights"
      ]
    },
    {
      "cell_type": "code",
      "metadata": {
        "colab": {
          "base_uri": "https://localhost:8080/",
          "height": 302
        },
        "id": "KNYNhvm-QVqU",
        "outputId": "9bf671b9-21d4-4ed6-96a9-baaa8f817805"
      },
      "source": [
        "generator = build_generator(GEN_IMAGE_CHANNELS,(GENERATE_SQUARE,GENERATE_SQUARE,INPUT_IMAGE_CHANNELS))\n",
        "\n",
        "bw_image = bw_image_generator.next()\n",
        "\n",
        "generated_image = generator(bw_image, training=False)\n",
        "\n",
        "plt.imshow(generated_image[0, :, :])"
      ],
      "execution_count": 21,
      "outputs": [
        {
          "output_type": "stream",
          "text": [
            "Clipping input data to the valid range for imshow with RGB data ([0..1] for floats or [0..255] for integers).\n"
          ],
          "name": "stderr"
        },
        {
          "output_type": "execute_result",
          "data": {
            "text/plain": [
              "<matplotlib.image.AxesImage at 0x7f1ffddfa950>"
            ]
          },
          "metadata": {
            "tags": []
          },
          "execution_count": 21
        },
        {
          "output_type": "display_data",
          "data": {
            "image/png": "[encoded data removed]",
            "text/plain": [
              "<Figure size 432x288 with 1 Axes>"
            ]
          },
          "metadata": {
            "tags": [],
            "needs_background": "light"
          }
        }
      ]
    },
    {
      "cell_type": "markdown",
      "metadata": {
        "id": "IEgBnzLGGDkF"
      },
      "source": [
        "Our discriminator provides us with little to no result"
      ]
    },
    {
      "cell_type": "code",
      "metadata": {
        "id": "-uU-2nl0QalL",
        "colab": {
          "base_uri": "https://localhost:8080/"
        },
        "outputId": "196f04ea-a005-4620-d63e-040ba3aa6ce8"
      },
      "source": [
        "image_shape = (GENERATE_SQUARE,GENERATE_SQUARE,GEN_IMAGE_CHANNELS)\n",
        "\n",
        "discriminator = build_discriminator(image_shape)\n",
        "decision = discriminator(generated_image)\n",
        "print (decision[0])"
      ],
      "execution_count": 24,
      "outputs": [
        {
          "output_type": "stream",
          "text": [
            "tf.Tensor([0.51397145], shape=(1,), dtype=float32)\n"
          ],
          "name": "stdout"
        }
      ]
    },
    {
      "cell_type": "markdown",
      "metadata": {
        "id": "nvUMINk4GH9Z"
      },
      "source": [
        "We're setting up the loss function for our generator and discriminator. That's the log loss or the binary crossentropy loss defined accordingly in the report"
      ]
    },
    {
      "cell_type": "code",
      "metadata": {
        "id": "fVpE3_UcgCuK"
      },
      "source": [
        "cross_entropy = tf.keras.losses.BinaryCrossentropy(from_logits = True)\n",
        "\n",
        "def discriminator_loss(real_output, fake_output):\n",
        "    real_loss = cross_entropy(tf.ones_like(real_output), real_output)\n",
        "    fake_loss = cross_entropy(tf.zeros_like(fake_output), fake_output)\n",
        "    total_loss = real_loss + fake_loss\n",
        "    return total_loss\n",
        "\n",
        "def generator_loss(fake_output):\n",
        "    return cross_entropy(tf.ones_like(fake_output), fake_output)"
      ],
      "execution_count": 25,
      "outputs": []
    },
    {
      "cell_type": "markdown",
      "metadata": {
        "id": "rgrw4NdMGSXS"
      },
      "source": [
        "The train step is where we'll process a batch of images and calculate the loss of generator and discriminator. We'll apply the gradient descent values to the variables"
      ]
    },
    {
      "cell_type": "code",
      "metadata": {
        "id": "YbSGp5ZRhSUC"
      },
      "source": [
        "@tf.function\n",
        "def train_step(bw_images, cl_images):\n",
        "    with tf.GradientTape() as gen_tape, tf.GradientTape() as disc_tape:\n",
        "        #Get the generated image batch by passing the grayscale images through the generator\n",
        "        generated_images = generator(bw_images, training=True)\n",
        "        \n",
        "        real_output = discriminator(cl_images, training=True)\n",
        "        fake_output = discriminator(generated_images, training=True)\n",
        "        \n",
        "        #Calculate the losses of the networks\n",
        "        gen_loss = generator_loss(fake_output)\n",
        "        disc_loss = discriminator_loss(real_output, fake_output)\n",
        "        \n",
        "        #Get the gradients using gradient tape\n",
        "        gradients_of_generator = gen_tape.gradient(gen_loss, generator.trainable_variables)\n",
        "        gradients_of_discriminator = disc_tape.gradient(disc_loss, discriminator.trainable_variables)\n",
        "        \n",
        "        #Apply the gradients so update variables\n",
        "        generator_optimizer.apply_gradients(zip(gradients_of_generator, generator.trainable_variables))\n",
        "        discriminator_optimizer.apply_gradients(zip(gradients_of_discriminator, discriminator.trainable_variables))\n",
        "        \n",
        "        return gen_loss, disc_loss"
      ],
      "execution_count": null,
      "outputs": []
    },
    {
      "cell_type": "code",
      "metadata": {
        "id": "UfAZfDYtlese"
      },
      "source": [
        "#This cell contains all the \"callback\" type functionalities\n",
        "def save_images(cnt,bw_images, cl_images):\n",
        "    image_array = np.full(( \n",
        "      PREVIEW_MARGIN + (PREVIEW_ROWS * (GENERATE_SQUARE+PREVIEW_MARGIN)), \n",
        "      PREVIEW_MARGIN + (PREVIEW_COLS * (GENERATE_SQUARE+PREVIEW_MARGIN)), 3), \n",
        "      255, dtype=np.uint8)\n",
        "\n",
        "    generated_images = generator.predict(bw_images)\n",
        "\n",
        "    generated_images = 0.5 * generated_images + 0.5\n",
        "\n",
        "    bw_image = np.concatenate((bw_images[0],)*3, axis = -1)\n",
        "\n",
        "    original_image = cl_images[0]\n",
        "\n",
        "    final_images = np.array([bw_image,generated_images[0],original_image])\n",
        "\n",
        "    image_count = 0\n",
        "    for row in range(PREVIEW_ROWS):\n",
        "        for col in range(PREVIEW_COLS):\n",
        "            r = row * (GENERATE_SQUARE+8) + PREVIEW_MARGIN\n",
        "            c = col * (GENERATE_SQUARE+8) + PREVIEW_MARGIN\n",
        "            image_array[r:r+GENERATE_SQUARE,c:c+GENERATE_SQUARE] \\\n",
        "                = final_images[image_count] * 255\n",
        "            image_count += 1\n",
        "\n",
        "\n",
        "    output_path = os.path.join(DATA_PATH,'output')\n",
        "    if not os.path.exists(output_path):\n",
        "        os.makedirs(output_path)\n",
        "\n",
        "    filename = os.path.join(output_path,f\"train-{cnt}.png\")\n",
        "    im = Image.fromarray(image_array)\n",
        "    im.save(filename)\n",
        "\n",
        "\n",
        "def csv_logger(dictionary, field_names, file_name, header=False):\n",
        "  with open(file_name, 'a') as csvfile:\n",
        "    writer = csv.DictWriter(csvfile, fieldnames=field_names)\n",
        "    if(header):\n",
        "      writer.writeheader()\n",
        "    writer.writerow(dictionary)"
      ],
      "execution_count": null,
      "outputs": []
    },
    {
      "cell_type": "code",
      "metadata": {
        "id": "DWjpWCoGhd-j"
      },
      "source": [
        "def train(gen_generator, disc_generator, epochs, steps_per_epoch):\n",
        "    start = time.time()\n",
        "    metrics = {'gen_loss':[], 'disc_loss':[]}\n",
        "    field_names = ['Epoch', 'gen_loss', 'disc_loss']\n",
        "\n",
        "    header = True\n",
        "    for epoch in range(epochs):\n",
        "        epoch_start = time.time()\n",
        "        if(epoch>0):\n",
        "          header = False\n",
        "            \n",
        "        gen_loss_list = []\n",
        "        disc_loss_list = []\n",
        "        \n",
        "        bw_batch = []\n",
        "        cl_batch = []\n",
        "        \n",
        "        steps = 0\n",
        "        \n",
        "        for bw_imagebatch, cl_imagebatch in zip(gen_generator,disc_generator):\n",
        "            if(steps>steps_per_epoch):\n",
        "                break\n",
        "            if(len(bw_batch)<8):\n",
        "                for i in range(bw_imagebatch.shape[0]):\n",
        "                    bw_batch.append(bw_imagebatch[i])\n",
        "                    cl_batch.append(cl_imagebatch[i])\n",
        "            t = train_step(bw_imagebatch, cl_imagebatch)\n",
        "            gen_loss_list.append(t[0])\n",
        "            disc_loss_list.append(t[1])\n",
        "            steps+=1\n",
        "\n",
        "        g_loss = sum(gen_loss_list) / len(gen_loss_list)\n",
        "        d_loss = sum(disc_loss_list) / len(disc_loss_list)\n",
        "\n",
        "        metrics['gen_loss'].append(g_loss.numpy())\n",
        "        metrics['disc_loss'].append(d_loss.numpy())\n",
        "\n",
        "        #Log the epoch losses\n",
        "        log = {'Epoch': epoch+1, 'gen_loss': g_loss.numpy(), 'disc_loss': d_loss.numpy()}\n",
        "        csv_logger(log, field_names, log_file, header)\n",
        "\n",
        "        epoch_elapsed = time.time()-epoch_start\n",
        "        \n",
        "        print (f'Epoch {epoch+1}, gen loss={g_loss},disc loss={d_loss}, epoch_time={hms_string(epoch_elapsed)}')\n",
        "        save_images(epoch,np.array(bw_batch), np.array(cl_batch))\n",
        "\n",
        "    elapsed = time.time()-start\n",
        "    print (f'Training time: {hms_string(elapsed)}')\n",
        "\n",
        "    return metrics"
      ],
      "execution_count": null,
      "outputs": []
    },
    {
      "cell_type": "code",
      "metadata": {
        "colab": {
          "base_uri": "https://localhost:8080/"
        },
        "id": "mENU89Dlhhxl",
        "outputId": "c8fbba7a-f43e-406c-8353-e11ba290f6b4"
      },
      "source": [
        "print(generator.summary())\n",
        "print(\"\\n\\n\")\n",
        "print(discriminator.summary())"
      ],
      "execution_count": null,
      "outputs": [
        {
          "output_type": "stream",
          "text": [
            "Model: \"Generator\"\n",
            "_________________________________________________________________\n",
            "Layer (type)                 Output Shape              Param #   \n",
            "=================================================================\n",
            "input_1 (InputLayer)         [(None, 64, 64, 1)]       0         \n",
            "_________________________________________________________________\n",
            "input_conv (Conv2D)          (None, 64, 64, 3)         30        \n",
            "_________________________________________________________________\n",
            "input_conv2d_transpose (Conv (None, 256, 256, 3)       12        \n",
            "_________________________________________________________________\n",
            "block1_conv1 (Conv2D)        (None, 256, 256, 64)      1792      \n",
            "_________________________________________________________________\n",
            "block1_conv2 (Conv2D)        (None, 256, 256, 64)      36928     \n",
            "_________________________________________________________________\n",
            "block1_pool (MaxPooling2D)   (None, 128, 128, 64)      0         \n",
            "_________________________________________________________________\n",
            "block2_conv1 (Conv2D)        (None, 128, 128, 128)     73856     \n",
            "_________________________________________________________________\n",
            "block2_conv2 (Conv2D)        (None, 128, 128, 128)     147584    \n",
            "_________________________________________________________________\n",
            "block2_pool (MaxPooling2D)   (None, 64, 64, 128)       0         \n",
            "_________________________________________________________________\n",
            "block3_conv1 (Conv2D)        (None, 64, 64, 256)       295168    \n",
            "_________________________________________________________________\n",
            "block3_conv2 (Conv2D)        (None, 64, 64, 256)       590080    \n",
            "_________________________________________________________________\n",
            "block3_conv3 (Conv2D)        (None, 64, 64, 256)       590080    \n",
            "_________________________________________________________________\n",
            "output_conv (Conv2D)         (None, 64, 64, 3)         6915      \n",
            "_________________________________________________________________\n",
            "output_activation (Activatio (None, 64, 64, 3)         0         \n",
            "=================================================================\n",
            "Total params: 1,742,445\n",
            "Trainable params: 6,957\n",
            "Non-trainable params: 1,735,488\n",
            "_________________________________________________________________\n",
            "None\n",
            "\n",
            "\n",
            "\n",
            "Model: \"Discriminator\"\n",
            "_________________________________________________________________\n",
            "Layer (type)                 Output Shape              Param #   \n",
            "=================================================================\n",
            "input_4 (InputLayer)         [(None, 64, 64, 3)]       0         \n",
            "_________________________________________________________________\n",
            "block1_conv1 (Conv2D)        (None, 64, 64, 64)        1792      \n",
            "_________________________________________________________________\n",
            "block1_conv2 (Conv2D)        (None, 64, 64, 64)        36928     \n",
            "_________________________________________________________________\n",
            "block1_pool (MaxPooling2D)   (None, 32, 32, 64)        0         \n",
            "_________________________________________________________________\n",
            "block2_conv1 (Conv2D)        (None, 32, 32, 128)       73856     \n",
            "_________________________________________________________________\n",
            "block2_conv2 (Conv2D)        (None, 32, 32, 128)       147584    \n",
            "_________________________________________________________________\n",
            "block2_pool (MaxPooling2D)   (None, 16, 16, 128)       0         \n",
            "_________________________________________________________________\n",
            "block3_conv1 (Conv2D)        (None, 16, 16, 256)       295168    \n",
            "_________________________________________________________________\n",
            "block3_conv2 (Conv2D)        (None, 16, 16, 256)       590080    \n",
            "_________________________________________________________________\n",
            "block3_conv3 (Conv2D)        (None, 16, 16, 256)       590080    \n",
            "_________________________________________________________________\n",
            "block3_pool (MaxPooling2D)   (None, 8, 8, 256)         0         \n",
            "_________________________________________________________________\n",
            "block4_conv1 (Conv2D)        (None, 8, 8, 512)         1180160   \n",
            "_________________________________________________________________\n",
            "block4_conv2 (Conv2D)        (None, 8, 8, 512)         2359808   \n",
            "_________________________________________________________________\n",
            "block4_conv3 (Conv2D)        (None, 8, 8, 512)         2359808   \n",
            "_________________________________________________________________\n",
            "block4_pool (MaxPooling2D)   (None, 4, 4, 512)         0         \n",
            "_________________________________________________________________\n",
            "block5_conv1 (Conv2D)        (None, 4, 4, 512)         2359808   \n",
            "_________________________________________________________________\n",
            "block5_conv2 (Conv2D)        (None, 4, 4, 512)         2359808   \n",
            "_________________________________________________________________\n",
            "block5_conv3 (Conv2D)        (None, 4, 4, 512)         2359808   \n",
            "_________________________________________________________________\n",
            "block5_pool (MaxPooling2D)   (None, 2, 2, 512)         0         \n",
            "_________________________________________________________________\n",
            "dropout_4 (Dropout)          (None, 2, 2, 512)         0         \n",
            "_________________________________________________________________\n",
            "conv2d_3 (Conv2D)            (None, 2, 2, 512)         2359808   \n",
            "_________________________________________________________________\n",
            "batch_normalization_3 (Batch (None, 2, 2, 512)         2048      \n",
            "_________________________________________________________________\n",
            "leaky_re_lu_3 (LeakyReLU)    (None, 2, 2, 512)         0         \n",
            "_________________________________________________________________\n",
            "dropout_5 (Dropout)          (None, 2, 2, 512)         0         \n",
            "_________________________________________________________________\n",
            "flatten_1 (Flatten)          (None, 2048)              0         \n",
            "_________________________________________________________________\n",
            "dense_1 (Dense)              (None, 1)                 2049      \n",
            "=================================================================\n",
            "Total params: 17,078,593\n",
            "Trainable params: 2,362,881\n",
            "Non-trainable params: 14,715,712\n",
            "_________________________________________________________________\n",
            "None\n"
          ],
          "name": "stdout"
        }
      ]
    },
    {
      "cell_type": "code",
      "metadata": {
        "colab": {
          "base_uri": "https://localhost:8080/",
          "height": 52
        },
        "id": "1zgeBA8eno0m",
        "outputId": "3334d1e5-05ff-4b38-d7db-6d747b36032e"
      },
      "source": [
        "#Plot model only when necessary\n",
        "\n",
        "'''\n",
        "tf.keras.utils.plot_model(\n",
        "    generator,\n",
        "    to_file = 'generator.png',\n",
        "    show_shapes = True,\n",
        "    show_layer_names = True,\n",
        "    expand_nested = True,\n",
        "    dpi = 96\n",
        ")\n",
        "'''"
      ],
      "execution_count": null,
      "outputs": [
        {
          "output_type": "execute_result",
          "data": {
            "application/vnd.google.colaboratory.intrinsic+json": {
              "type": "string"
            },
            "text/plain": [
              "\"\\ntf.keras.utils.plot_model(\\n    generator,\\n    to_file = 'generator.png',\\n    show_shapes = True,\\n    show_layer_names = True,\\n    expand_nested = True,\\n    dpi = 96\\n)\\n\""
            ]
          },
          "metadata": {
            "tags": []
          },
          "execution_count": 20
        }
      ]
    },
    {
      "cell_type": "code",
      "metadata": {
        "id": "4yrXrJWnobZd"
      },
      "source": [
        "#Plot model only when necessary\n",
        "\n",
        "'''\n",
        "tf.keras.utils.plot_model(\n",
        "    discriminator,\n",
        "    to_file = 'discriminator.png',\n",
        "    show_shapes = True,\n",
        "    show_layer_names = True,\n",
        "    expand_nested = True,\n",
        "    dpi = 96\n",
        ")\n",
        "'''"
      ],
      "execution_count": null,
      "outputs": []
    },
    {
      "cell_type": "code",
      "metadata": {
        "id": "RmyLRPwvolXv",
        "colab": {
          "base_uri": "https://localhost:8080/"
        },
        "outputId": "e6375860-ab78-4740-ad92-512e7e1dce99"
      },
      "source": [
        "steps_per_epoch = int(np.ceil(bw_image_generator.n/bw_image_generator.batch_size))\n",
        "\n",
        "history = train(bw_image_generator, cl_image_generator, EPOCHS, steps_per_epoch)"
      ],
      "execution_count": null,
      "outputs": [
        {
          "output_type": "stream",
          "text": [
            "Epoch 1, gen loss=12.318286895751953,disc loss=8.257023728219792e-05, epoch_time=0:01:37.24\n",
            "Epoch 2, gen loss=13.01875114440918,disc loss=5.3968458814779297e-05, epoch_time=0:01:37.06\n",
            "Epoch 3, gen loss=12.557870864868164,disc loss=9.987247176468372e-05, epoch_time=0:01:37.04\n",
            "Epoch 4, gen loss=12.965279579162598,disc loss=8.153387170750648e-05, epoch_time=0:01:36.95\n",
            "Epoch 5, gen loss=12.989309310913086,disc loss=2.4868562832125463e-05, epoch_time=0:01:36.95\n",
            "Epoch 6, gen loss=13.542712211608887,disc loss=2.0762512576766312e-05, epoch_time=0:01:36.95\n",
            "Epoch 7, gen loss=13.874381065368652,disc loss=1.8598640963318758e-05, epoch_time=0:01:36.98\n",
            "Epoch 8, gen loss=14.167265892028809,disc loss=1.464298020437127e-05, epoch_time=0:01:36.90\n",
            "Epoch 9, gen loss=14.191975593566895,disc loss=1.2920325389131904e-05, epoch_time=0:01:36.93\n",
            "Epoch 10, gen loss=14.199726104736328,disc loss=1.4102275599725544e-05, epoch_time=0:01:36.93\n",
            "Epoch 11, gen loss=15.809355735778809,disc loss=0.031192496418952942, epoch_time=0:01:36.95\n",
            "Epoch 12, gen loss=13.211097717285156,disc loss=0.002221585251390934, epoch_time=0:01:36.98\n",
            "Epoch 13, gen loss=13.552925109863281,disc loss=0.00048762664664536715, epoch_time=0:01:36.97\n",
            "Epoch 14, gen loss=13.59559440612793,disc loss=0.0004282173467800021, epoch_time=0:01:36.95\n",
            "Epoch 15, gen loss=14.330877304077148,disc loss=0.00015879077545832843, epoch_time=0:01:36.92\n",
            "Epoch 16, gen loss=14.295745849609375,disc loss=0.00012357308878563344, epoch_time=0:01:36.91\n",
            "Epoch 17, gen loss=14.508126258850098,disc loss=0.0001008294420898892, epoch_time=0:01:36.97\n",
            "Epoch 18, gen loss=14.614459991455078,disc loss=0.0001882667129393667, epoch_time=0:01:37.00\n",
            "Epoch 19, gen loss=14.78027629852295,disc loss=0.0002207806974183768, epoch_time=0:01:36.93\n",
            "Epoch 20, gen loss=15.367512702941895,disc loss=4.736522168968804e-05, epoch_time=0:01:36.93\n",
            "Epoch 21, gen loss=15.382929801940918,disc loss=0.00011316109157633036, epoch_time=0:01:36.94\n",
            "Epoch 22, gen loss=15.769837379455566,disc loss=2.4373779524466954e-05, epoch_time=0:01:36.97\n",
            "Epoch 23, gen loss=15.65506649017334,disc loss=5.078651156509295e-05, epoch_time=0:01:36.94\n"
          ],
          "name": "stdout"
        }
      ]
    },
    {
      "cell_type": "code",
      "metadata": {
        "id": "upUfMQN6orZd"
      },
      "source": [
        "generator.save(os.path.join(DATA_PATH,\"color_generator.h5\"))"
      ],
      "execution_count": null,
      "outputs": []
    }
  ]
}